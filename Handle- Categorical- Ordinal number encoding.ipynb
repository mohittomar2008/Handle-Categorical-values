{
 "cells": [
  {
   "cell_type": "markdown",
   "id": "e075e9ba",
   "metadata": {},
   "source": [
    "# Categorical- Ordinal number encoding"
   ]
  },
  {
   "cell_type": "code",
   "execution_count": 1,
   "id": "f77a25c6",
   "metadata": {},
   "outputs": [],
   "source": [
    "#  we have to rank ordinal category. best possible will get rank 1"
   ]
  },
  {
   "cell_type": "code",
   "execution_count": 2,
   "id": "5fd03c1d",
   "metadata": {},
   "outputs": [],
   "source": [
    "#lets take date and time column then acco to weekdays rank them\n"
   ]
  },
  {
   "cell_type": "code",
   "execution_count": 3,
   "id": "9dd6f9a4",
   "metadata": {},
   "outputs": [],
   "source": [
    "import pandas as pd\n",
    "import numpy as np\n",
    "import datetime"
   ]
  },
  {
   "cell_type": "code",
   "execution_count": 6,
   "id": "2f68b2ad",
   "metadata": {},
   "outputs": [],
   "source": [
    "today_date= datetime.datetime.today()"
   ]
  },
  {
   "cell_type": "code",
   "execution_count": 7,
   "id": "459d9ed5",
   "metadata": {},
   "outputs": [
    {
     "data": {
      "text/plain": [
       "datetime.datetime(2021, 10, 26, 17, 21, 58, 795719)"
      ]
     },
     "execution_count": 7,
     "metadata": {},
     "output_type": "execute_result"
    }
   ],
   "source": [
    "today_date"
   ]
  },
  {
   "cell_type": "code",
   "execution_count": 11,
   "id": "1edf839d",
   "metadata": {},
   "outputs": [],
   "source": [
    "# liet comprehension\n",
    "days= [today_date- datetime.timedelta(x) for x in range(15)]"
   ]
  },
  {
   "cell_type": "code",
   "execution_count": 12,
   "id": "52774f4a",
   "metadata": {},
   "outputs": [
    {
     "data": {
      "text/plain": [
       "[datetime.datetime(2021, 10, 26, 17, 21, 58, 795719),\n",
       " datetime.datetime(2021, 10, 25, 17, 21, 58, 795719),\n",
       " datetime.datetime(2021, 10, 24, 17, 21, 58, 795719),\n",
       " datetime.datetime(2021, 10, 23, 17, 21, 58, 795719),\n",
       " datetime.datetime(2021, 10, 22, 17, 21, 58, 795719),\n",
       " datetime.datetime(2021, 10, 21, 17, 21, 58, 795719),\n",
       " datetime.datetime(2021, 10, 20, 17, 21, 58, 795719),\n",
       " datetime.datetime(2021, 10, 19, 17, 21, 58, 795719),\n",
       " datetime.datetime(2021, 10, 18, 17, 21, 58, 795719),\n",
       " datetime.datetime(2021, 10, 17, 17, 21, 58, 795719),\n",
       " datetime.datetime(2021, 10, 16, 17, 21, 58, 795719),\n",
       " datetime.datetime(2021, 10, 15, 17, 21, 58, 795719),\n",
       " datetime.datetime(2021, 10, 14, 17, 21, 58, 795719),\n",
       " datetime.datetime(2021, 10, 13, 17, 21, 58, 795719),\n",
       " datetime.datetime(2021, 10, 12, 17, 21, 58, 795719)]"
      ]
     },
     "execution_count": 12,
     "metadata": {},
     "output_type": "execute_result"
    }
   ],
   "source": [
    "days  # convert days into DataFrame"
   ]
  },
  {
   "cell_type": "code",
   "execution_count": 13,
   "id": "542b7b03",
   "metadata": {},
   "outputs": [],
   "source": [
    "data=pd.DataFrame(days)"
   ]
  },
  {
   "cell_type": "code",
   "execution_count": 15,
   "id": "8815ece1",
   "metadata": {},
   "outputs": [],
   "source": [
    "# set column name to Days\n",
    "data.columns=['Days']"
   ]
  },
  {
   "cell_type": "code",
   "execution_count": 16,
   "id": "1156ecb6",
   "metadata": {},
   "outputs": [
    {
     "data": {
      "text/html": [
       "<div>\n",
       "<style scoped>\n",
       "    .dataframe tbody tr th:only-of-type {\n",
       "        vertical-align: middle;\n",
       "    }\n",
       "\n",
       "    .dataframe tbody tr th {\n",
       "        vertical-align: top;\n",
       "    }\n",
       "\n",
       "    .dataframe thead th {\n",
       "        text-align: right;\n",
       "    }\n",
       "</style>\n",
       "<table border=\"1\" class=\"dataframe\">\n",
       "  <thead>\n",
       "    <tr style=\"text-align: right;\">\n",
       "      <th></th>\n",
       "      <th>Days</th>\n",
       "    </tr>\n",
       "  </thead>\n",
       "  <tbody>\n",
       "    <tr>\n",
       "      <th>0</th>\n",
       "      <td>2021-10-26 17:21:58.795719</td>\n",
       "    </tr>\n",
       "    <tr>\n",
       "      <th>1</th>\n",
       "      <td>2021-10-25 17:21:58.795719</td>\n",
       "    </tr>\n",
       "    <tr>\n",
       "      <th>2</th>\n",
       "      <td>2021-10-24 17:21:58.795719</td>\n",
       "    </tr>\n",
       "    <tr>\n",
       "      <th>3</th>\n",
       "      <td>2021-10-23 17:21:58.795719</td>\n",
       "    </tr>\n",
       "    <tr>\n",
       "      <th>4</th>\n",
       "      <td>2021-10-22 17:21:58.795719</td>\n",
       "    </tr>\n",
       "    <tr>\n",
       "      <th>5</th>\n",
       "      <td>2021-10-21 17:21:58.795719</td>\n",
       "    </tr>\n",
       "    <tr>\n",
       "      <th>6</th>\n",
       "      <td>2021-10-20 17:21:58.795719</td>\n",
       "    </tr>\n",
       "    <tr>\n",
       "      <th>7</th>\n",
       "      <td>2021-10-19 17:21:58.795719</td>\n",
       "    </tr>\n",
       "    <tr>\n",
       "      <th>8</th>\n",
       "      <td>2021-10-18 17:21:58.795719</td>\n",
       "    </tr>\n",
       "    <tr>\n",
       "      <th>9</th>\n",
       "      <td>2021-10-17 17:21:58.795719</td>\n",
       "    </tr>\n",
       "    <tr>\n",
       "      <th>10</th>\n",
       "      <td>2021-10-16 17:21:58.795719</td>\n",
       "    </tr>\n",
       "    <tr>\n",
       "      <th>11</th>\n",
       "      <td>2021-10-15 17:21:58.795719</td>\n",
       "    </tr>\n",
       "    <tr>\n",
       "      <th>12</th>\n",
       "      <td>2021-10-14 17:21:58.795719</td>\n",
       "    </tr>\n",
       "    <tr>\n",
       "      <th>13</th>\n",
       "      <td>2021-10-13 17:21:58.795719</td>\n",
       "    </tr>\n",
       "    <tr>\n",
       "      <th>14</th>\n",
       "      <td>2021-10-12 17:21:58.795719</td>\n",
       "    </tr>\n",
       "  </tbody>\n",
       "</table>\n",
       "</div>"
      ],
      "text/plain": [
       "                         Days\n",
       "0  2021-10-26 17:21:58.795719\n",
       "1  2021-10-25 17:21:58.795719\n",
       "2  2021-10-24 17:21:58.795719\n",
       "3  2021-10-23 17:21:58.795719\n",
       "4  2021-10-22 17:21:58.795719\n",
       "5  2021-10-21 17:21:58.795719\n",
       "6  2021-10-20 17:21:58.795719\n",
       "7  2021-10-19 17:21:58.795719\n",
       "8  2021-10-18 17:21:58.795719\n",
       "9  2021-10-17 17:21:58.795719\n",
       "10 2021-10-16 17:21:58.795719\n",
       "11 2021-10-15 17:21:58.795719\n",
       "12 2021-10-14 17:21:58.795719\n",
       "13 2021-10-13 17:21:58.795719\n",
       "14 2021-10-12 17:21:58.795719"
      ]
     },
     "execution_count": 16,
     "metadata": {},
     "output_type": "execute_result"
    }
   ],
   "source": [
    "data"
   ]
  },
  {
   "cell_type": "code",
   "execution_count": 17,
   "id": "a8e11b4f",
   "metadata": {},
   "outputs": [],
   "source": [
    "# now extract weekdays fro the Days column"
   ]
  },
  {
   "cell_type": "code",
   "execution_count": 19,
   "id": "64f32e7c",
   "metadata": {},
   "outputs": [],
   "source": [
    "data['Weekday']=data['Days'].dt.day_name()"
   ]
  },
  {
   "cell_type": "code",
   "execution_count": 21,
   "id": "bba448de",
   "metadata": {},
   "outputs": [
    {
     "data": {
      "text/html": [
       "<div>\n",
       "<style scoped>\n",
       "    .dataframe tbody tr th:only-of-type {\n",
       "        vertical-align: middle;\n",
       "    }\n",
       "\n",
       "    .dataframe tbody tr th {\n",
       "        vertical-align: top;\n",
       "    }\n",
       "\n",
       "    .dataframe thead th {\n",
       "        text-align: right;\n",
       "    }\n",
       "</style>\n",
       "<table border=\"1\" class=\"dataframe\">\n",
       "  <thead>\n",
       "    <tr style=\"text-align: right;\">\n",
       "      <th></th>\n",
       "      <th>Days</th>\n",
       "      <th>Weekday</th>\n",
       "    </tr>\n",
       "  </thead>\n",
       "  <tbody>\n",
       "    <tr>\n",
       "      <th>0</th>\n",
       "      <td>2021-10-26 17:21:58.795719</td>\n",
       "      <td>Tuesday</td>\n",
       "    </tr>\n",
       "    <tr>\n",
       "      <th>1</th>\n",
       "      <td>2021-10-25 17:21:58.795719</td>\n",
       "      <td>Monday</td>\n",
       "    </tr>\n",
       "    <tr>\n",
       "      <th>2</th>\n",
       "      <td>2021-10-24 17:21:58.795719</td>\n",
       "      <td>Sunday</td>\n",
       "    </tr>\n",
       "    <tr>\n",
       "      <th>3</th>\n",
       "      <td>2021-10-23 17:21:58.795719</td>\n",
       "      <td>Saturday</td>\n",
       "    </tr>\n",
       "    <tr>\n",
       "      <th>4</th>\n",
       "      <td>2021-10-22 17:21:58.795719</td>\n",
       "      <td>Friday</td>\n",
       "    </tr>\n",
       "    <tr>\n",
       "      <th>5</th>\n",
       "      <td>2021-10-21 17:21:58.795719</td>\n",
       "      <td>Thursday</td>\n",
       "    </tr>\n",
       "    <tr>\n",
       "      <th>6</th>\n",
       "      <td>2021-10-20 17:21:58.795719</td>\n",
       "      <td>Wednesday</td>\n",
       "    </tr>\n",
       "    <tr>\n",
       "      <th>7</th>\n",
       "      <td>2021-10-19 17:21:58.795719</td>\n",
       "      <td>Tuesday</td>\n",
       "    </tr>\n",
       "    <tr>\n",
       "      <th>8</th>\n",
       "      <td>2021-10-18 17:21:58.795719</td>\n",
       "      <td>Monday</td>\n",
       "    </tr>\n",
       "    <tr>\n",
       "      <th>9</th>\n",
       "      <td>2021-10-17 17:21:58.795719</td>\n",
       "      <td>Sunday</td>\n",
       "    </tr>\n",
       "    <tr>\n",
       "      <th>10</th>\n",
       "      <td>2021-10-16 17:21:58.795719</td>\n",
       "      <td>Saturday</td>\n",
       "    </tr>\n",
       "    <tr>\n",
       "      <th>11</th>\n",
       "      <td>2021-10-15 17:21:58.795719</td>\n",
       "      <td>Friday</td>\n",
       "    </tr>\n",
       "    <tr>\n",
       "      <th>12</th>\n",
       "      <td>2021-10-14 17:21:58.795719</td>\n",
       "      <td>Thursday</td>\n",
       "    </tr>\n",
       "    <tr>\n",
       "      <th>13</th>\n",
       "      <td>2021-10-13 17:21:58.795719</td>\n",
       "      <td>Wednesday</td>\n",
       "    </tr>\n",
       "    <tr>\n",
       "      <th>14</th>\n",
       "      <td>2021-10-12 17:21:58.795719</td>\n",
       "      <td>Tuesday</td>\n",
       "    </tr>\n",
       "  </tbody>\n",
       "</table>\n",
       "</div>"
      ],
      "text/plain": [
       "                         Days    Weekday\n",
       "0  2021-10-26 17:21:58.795719    Tuesday\n",
       "1  2021-10-25 17:21:58.795719     Monday\n",
       "2  2021-10-24 17:21:58.795719     Sunday\n",
       "3  2021-10-23 17:21:58.795719   Saturday\n",
       "4  2021-10-22 17:21:58.795719     Friday\n",
       "5  2021-10-21 17:21:58.795719   Thursday\n",
       "6  2021-10-20 17:21:58.795719  Wednesday\n",
       "7  2021-10-19 17:21:58.795719    Tuesday\n",
       "8  2021-10-18 17:21:58.795719     Monday\n",
       "9  2021-10-17 17:21:58.795719     Sunday\n",
       "10 2021-10-16 17:21:58.795719   Saturday\n",
       "11 2021-10-15 17:21:58.795719     Friday\n",
       "12 2021-10-14 17:21:58.795719   Thursday\n",
       "13 2021-10-13 17:21:58.795719  Wednesday\n",
       "14 2021-10-12 17:21:58.795719    Tuesday"
      ]
     },
     "execution_count": 21,
     "metadata": {},
     "output_type": "execute_result"
    }
   ],
   "source": [
    "data"
   ]
  },
  {
   "cell_type": "code",
   "execution_count": 30,
   "id": "3ddcf0be",
   "metadata": {},
   "outputs": [],
   "source": [
    "# create dict for ranking\n",
    "\n",
    "dic={\"Monday\":1,\"Tuesday\":2,'Wednesday':3,'Thursday':4,'Friday':5,'Saturday':6,'Sunday':7}"
   ]
  },
  {
   "cell_type": "code",
   "execution_count": 31,
   "id": "d44f7727",
   "metadata": {},
   "outputs": [
    {
     "data": {
      "text/plain": [
       "{'Monday': 1,\n",
       " 'Tuesday': 2,\n",
       " 'Wednesday': 3,\n",
       " 'Thursday': 4,\n",
       " 'Friday': 5,\n",
       " 'Saturday': 6,\n",
       " 'Sunday': 7}"
      ]
     },
     "execution_count": 31,
     "metadata": {},
     "output_type": "execute_result"
    }
   ],
   "source": [
    "dic"
   ]
  },
  {
   "cell_type": "code",
   "execution_count": 32,
   "id": "972f78ca",
   "metadata": {},
   "outputs": [],
   "source": [
    "data['Weekday_ordinal']= data['Weekday'].map(dic)"
   ]
  },
  {
   "cell_type": "code",
   "execution_count": 33,
   "id": "3ed0ce13",
   "metadata": {},
   "outputs": [
    {
     "data": {
      "text/html": [
       "<div>\n",
       "<style scoped>\n",
       "    .dataframe tbody tr th:only-of-type {\n",
       "        vertical-align: middle;\n",
       "    }\n",
       "\n",
       "    .dataframe tbody tr th {\n",
       "        vertical-align: top;\n",
       "    }\n",
       "\n",
       "    .dataframe thead th {\n",
       "        text-align: right;\n",
       "    }\n",
       "</style>\n",
       "<table border=\"1\" class=\"dataframe\">\n",
       "  <thead>\n",
       "    <tr style=\"text-align: right;\">\n",
       "      <th></th>\n",
       "      <th>Days</th>\n",
       "      <th>Weekday</th>\n",
       "      <th>Weekday_ordinal</th>\n",
       "    </tr>\n",
       "  </thead>\n",
       "  <tbody>\n",
       "    <tr>\n",
       "      <th>0</th>\n",
       "      <td>2021-10-26 17:21:58.795719</td>\n",
       "      <td>Tuesday</td>\n",
       "      <td>2</td>\n",
       "    </tr>\n",
       "    <tr>\n",
       "      <th>1</th>\n",
       "      <td>2021-10-25 17:21:58.795719</td>\n",
       "      <td>Monday</td>\n",
       "      <td>1</td>\n",
       "    </tr>\n",
       "    <tr>\n",
       "      <th>2</th>\n",
       "      <td>2021-10-24 17:21:58.795719</td>\n",
       "      <td>Sunday</td>\n",
       "      <td>7</td>\n",
       "    </tr>\n",
       "    <tr>\n",
       "      <th>3</th>\n",
       "      <td>2021-10-23 17:21:58.795719</td>\n",
       "      <td>Saturday</td>\n",
       "      <td>6</td>\n",
       "    </tr>\n",
       "    <tr>\n",
       "      <th>4</th>\n",
       "      <td>2021-10-22 17:21:58.795719</td>\n",
       "      <td>Friday</td>\n",
       "      <td>5</td>\n",
       "    </tr>\n",
       "    <tr>\n",
       "      <th>5</th>\n",
       "      <td>2021-10-21 17:21:58.795719</td>\n",
       "      <td>Thursday</td>\n",
       "      <td>4</td>\n",
       "    </tr>\n",
       "    <tr>\n",
       "      <th>6</th>\n",
       "      <td>2021-10-20 17:21:58.795719</td>\n",
       "      <td>Wednesday</td>\n",
       "      <td>3</td>\n",
       "    </tr>\n",
       "    <tr>\n",
       "      <th>7</th>\n",
       "      <td>2021-10-19 17:21:58.795719</td>\n",
       "      <td>Tuesday</td>\n",
       "      <td>2</td>\n",
       "    </tr>\n",
       "    <tr>\n",
       "      <th>8</th>\n",
       "      <td>2021-10-18 17:21:58.795719</td>\n",
       "      <td>Monday</td>\n",
       "      <td>1</td>\n",
       "    </tr>\n",
       "    <tr>\n",
       "      <th>9</th>\n",
       "      <td>2021-10-17 17:21:58.795719</td>\n",
       "      <td>Sunday</td>\n",
       "      <td>7</td>\n",
       "    </tr>\n",
       "    <tr>\n",
       "      <th>10</th>\n",
       "      <td>2021-10-16 17:21:58.795719</td>\n",
       "      <td>Saturday</td>\n",
       "      <td>6</td>\n",
       "    </tr>\n",
       "    <tr>\n",
       "      <th>11</th>\n",
       "      <td>2021-10-15 17:21:58.795719</td>\n",
       "      <td>Friday</td>\n",
       "      <td>5</td>\n",
       "    </tr>\n",
       "    <tr>\n",
       "      <th>12</th>\n",
       "      <td>2021-10-14 17:21:58.795719</td>\n",
       "      <td>Thursday</td>\n",
       "      <td>4</td>\n",
       "    </tr>\n",
       "    <tr>\n",
       "      <th>13</th>\n",
       "      <td>2021-10-13 17:21:58.795719</td>\n",
       "      <td>Wednesday</td>\n",
       "      <td>3</td>\n",
       "    </tr>\n",
       "    <tr>\n",
       "      <th>14</th>\n",
       "      <td>2021-10-12 17:21:58.795719</td>\n",
       "      <td>Tuesday</td>\n",
       "      <td>2</td>\n",
       "    </tr>\n",
       "  </tbody>\n",
       "</table>\n",
       "</div>"
      ],
      "text/plain": [
       "                         Days    Weekday  Weekday_ordinal\n",
       "0  2021-10-26 17:21:58.795719    Tuesday                2\n",
       "1  2021-10-25 17:21:58.795719     Monday                1\n",
       "2  2021-10-24 17:21:58.795719     Sunday                7\n",
       "3  2021-10-23 17:21:58.795719   Saturday                6\n",
       "4  2021-10-22 17:21:58.795719     Friday                5\n",
       "5  2021-10-21 17:21:58.795719   Thursday                4\n",
       "6  2021-10-20 17:21:58.795719  Wednesday                3\n",
       "7  2021-10-19 17:21:58.795719    Tuesday                2\n",
       "8  2021-10-18 17:21:58.795719     Monday                1\n",
       "9  2021-10-17 17:21:58.795719     Sunday                7\n",
       "10 2021-10-16 17:21:58.795719   Saturday                6\n",
       "11 2021-10-15 17:21:58.795719     Friday                5\n",
       "12 2021-10-14 17:21:58.795719   Thursday                4\n",
       "13 2021-10-13 17:21:58.795719  Wednesday                3\n",
       "14 2021-10-12 17:21:58.795719    Tuesday                2"
      ]
     },
     "execution_count": 33,
     "metadata": {},
     "output_type": "execute_result"
    }
   ],
   "source": [
    "data"
   ]
  },
  {
   "cell_type": "code",
   "execution_count": 35,
   "id": "7d19e359",
   "metadata": {},
   "outputs": [
    {
     "data": {
      "text/plain": [
       "0       Tuesday\n",
       "1        Monday\n",
       "2        Sunday\n",
       "3      Saturday\n",
       "4        Friday\n",
       "5      Thursday\n",
       "6     Wednesday\n",
       "7       Tuesday\n",
       "8        Monday\n",
       "9        Sunday\n",
       "10     Saturday\n",
       "11       Friday\n",
       "12     Thursday\n",
       "13    Wednesday\n",
       "14      Tuesday\n",
       "Name: Days, dtype: object"
      ]
     },
     "execution_count": 35,
     "metadata": {},
     "output_type": "execute_result"
    }
   ],
   "source": [
    "data['Days'].dt.day_name()"
   ]
  },
  {
   "cell_type": "code",
   "execution_count": 36,
   "id": "37c4313a",
   "metadata": {},
   "outputs": [
    {
     "data": {
      "text/plain": [
       "0     26\n",
       "1     25\n",
       "2     24\n",
       "3     23\n",
       "4     22\n",
       "5     21\n",
       "6     20\n",
       "7     19\n",
       "8     18\n",
       "9     17\n",
       "10    16\n",
       "11    15\n",
       "12    14\n",
       "13    13\n",
       "14    12\n",
       "Name: Days, dtype: int64"
      ]
     },
     "execution_count": 36,
     "metadata": {},
     "output_type": "execute_result"
    }
   ],
   "source": [
    "data['Days'].dt.day"
   ]
  },
  {
   "cell_type": "code",
   "execution_count": 37,
   "id": "a9d7654a",
   "metadata": {},
   "outputs": [
    {
     "data": {
      "text/plain": [
       "0     2021\n",
       "1     2021\n",
       "2     2021\n",
       "3     2021\n",
       "4     2021\n",
       "5     2021\n",
       "6     2021\n",
       "7     2021\n",
       "8     2021\n",
       "9     2021\n",
       "10    2021\n",
       "11    2021\n",
       "12    2021\n",
       "13    2021\n",
       "14    2021\n",
       "Name: Days, dtype: int64"
      ]
     },
     "execution_count": 37,
     "metadata": {},
     "output_type": "execute_result"
    }
   ],
   "source": [
    "data['Days'].dt.year"
   ]
  },
  {
   "cell_type": "code",
   "execution_count": 38,
   "id": "6981fd7a",
   "metadata": {},
   "outputs": [
    {
     "data": {
      "text/plain": [
       "0     10\n",
       "1     10\n",
       "2     10\n",
       "3     10\n",
       "4     10\n",
       "5     10\n",
       "6     10\n",
       "7     10\n",
       "8     10\n",
       "9     10\n",
       "10    10\n",
       "11    10\n",
       "12    10\n",
       "13    10\n",
       "14    10\n",
       "Name: Days, dtype: int64"
      ]
     },
     "execution_count": 38,
     "metadata": {},
     "output_type": "execute_result"
    }
   ],
   "source": [
    "data['Days'].dt.month"
   ]
  },
  {
   "cell_type": "code",
   "execution_count": 39,
   "id": "75f3f457",
   "metadata": {},
   "outputs": [
    {
     "data": {
      "text/plain": [
       "0     17\n",
       "1     17\n",
       "2     17\n",
       "3     17\n",
       "4     17\n",
       "5     17\n",
       "6     17\n",
       "7     17\n",
       "8     17\n",
       "9     17\n",
       "10    17\n",
       "11    17\n",
       "12    17\n",
       "13    17\n",
       "14    17\n",
       "Name: Days, dtype: int64"
      ]
     },
     "execution_count": 39,
     "metadata": {},
     "output_type": "execute_result"
    }
   ],
   "source": [
    "data['Days'].dt.hour"
   ]
  },
  {
   "cell_type": "code",
   "execution_count": 41,
   "id": "736f8e8e",
   "metadata": {},
   "outputs": [
    {
     "data": {
      "text/plain": [
       "0     21\n",
       "1     21\n",
       "2     21\n",
       "3     21\n",
       "4     21\n",
       "5     21\n",
       "6     21\n",
       "7     21\n",
       "8     21\n",
       "9     21\n",
       "10    21\n",
       "11    21\n",
       "12    21\n",
       "13    21\n",
       "14    21\n",
       "Name: Days, dtype: int64"
      ]
     },
     "execution_count": 41,
     "metadata": {},
     "output_type": "execute_result"
    }
   ],
   "source": [
    "data['Days'].dt.minute"
   ]
  },
  {
   "cell_type": "code",
   "execution_count": null,
   "id": "2476336d",
   "metadata": {},
   "outputs": [],
   "source": []
  }
 ],
 "metadata": {
  "kernelspec": {
   "display_name": "Python 3",
   "language": "python",
   "name": "python3"
  },
  "language_info": {
   "codemirror_mode": {
    "name": "ipython",
    "version": 3
   },
   "file_extension": ".py",
   "mimetype": "text/x-python",
   "name": "python",
   "nbconvert_exporter": "python",
   "pygments_lexer": "ipython3",
   "version": "3.8.8"
  }
 },
 "nbformat": 4,
 "nbformat_minor": 5
}
